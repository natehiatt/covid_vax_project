{
 "cells": [
  {
   "cell_type": "markdown",
   "metadata": {},
   "source": [
    "# Decision Tree"
   ]
  },
  {
   "cell_type": "code",
   "execution_count": 84,
   "metadata": {},
   "outputs": [],
   "source": [
    "import numpy as np\n",
    "import seaborn as sns\n",
    "import pandas as pd\n",
    "from matplotlib import pyplot as plt\n",
    "import seaborn as sns\n",
    "from scipy import stats as stats\n",
    "\n",
    "from sklearn.linear_model import LogisticRegression\n",
    "from sklearn.tree import DecisionTreeClassifier, plot_tree\n",
    "from sklearn.dummy import DummyClassifier\n",
    "\n",
    "from sklearn.metrics import precision_score, recall_score, accuracy_score, f1_score,\\\n",
    "confusion_matrix, ConfusionMatrixDisplay\n",
    "from sklearn.model_selection import train_test_split, GridSearchCV, \\\n",
    "cross_val_score, RandomizedSearchCV, cross_validate\n",
    "\n",
    "from sklearn.preprocessing import OneHotEncoder, StandardScaler\n",
    "from sklearn.impute import SimpleImputer\n",
    "from sklearn.pipeline import Pipeline\n",
    "from sklearn.compose import ColumnTransformer\n",
    "\n",
    "from imblearn.over_sampling import SMOTE\n"
   ]
  },
  {
   "cell_type": "code",
   "execution_count": 5,
   "metadata": {},
   "outputs": [],
   "source": [
    "df = pd.read_csv('../data/cleaned_data.csv')"
   ]
  },
  {
   "cell_type": "code",
   "execution_count": 6,
   "metadata": {},
   "outputs": [
    {
     "name": "stdout",
     "output_type": "stream",
     "text": [
      "<class 'pandas.core.frame.DataFrame'>\n",
      "RangeIndex: 3113 entries, 0 to 3112\n",
      "Data columns (total 17 columns):\n",
      " #   Column                   Non-Null Count  Dtype  \n",
      "---  ------                   --------------  -----  \n",
      " 0   per_gop                  3113 non-null   float64\n",
      " 1   per_dem                  3113 non-null   float64\n",
      " 2   per_third_party          3113 non-null   float64\n",
      " 3   County_with_State        3113 non-null   object \n",
      " 4   Date                     3113 non-null   object \n",
      " 5   Series_Complete_Pop_Pct  3113 non-null   float64\n",
      " 6   Metro_status             3113 non-null   int64  \n",
      " 7   PCTPOVALL_2021           3113 non-null   int64  \n",
      " 8   MEDHHINC_2021            3113 non-null   int64  \n",
      " 9   WA                       3113 non-null   float64\n",
      " 10  BA                       3113 non-null   float64\n",
      " 11  IA                       3113 non-null   float64\n",
      " 12  AAPI                     3113 non-null   float64\n",
      " 13  MEDIAN_AGE_TOT           3113 non-null   float64\n",
      " 14  through_hs               3113 non-null   float64\n",
      " 15  college_up               3113 non-null   float64\n",
      " 16  target                   3113 non-null   int64  \n",
      "dtypes: float64(11), int64(4), object(2)\n",
      "memory usage: 413.6+ KB\n"
     ]
    }
   ],
   "source": [
    "df.info()"
   ]
  },
  {
   "cell_type": "code",
   "execution_count": 7,
   "metadata": {},
   "outputs": [],
   "source": [
    "y = df.target\n",
    "X = df.drop(columns =['target', 'Series_Complete_Pop_Pct','County_with_State', 'Date'], axis=1) "
   ]
  },
  {
   "cell_type": "code",
   "execution_count": 8,
   "metadata": {},
   "outputs": [
    {
     "data": {
      "text/plain": [
       "0    0.892708\n",
       "1    0.107292\n",
       "Name: target, dtype: float64"
      ]
     },
     "execution_count": 8,
     "metadata": {},
     "output_type": "execute_result"
    }
   ],
   "source": [
    "y.value_counts(normalize=True)"
   ]
  },
  {
   "cell_type": "code",
   "execution_count": 9,
   "metadata": {},
   "outputs": [],
   "source": [
    "X_train, X_test, y_train, y_test = train_test_split(\n",
    "    X, y, random_state=42)"
   ]
  },
  {
   "cell_type": "code",
   "execution_count": null,
   "metadata": {},
   "outputs": [],
   "source": []
  },
  {
   "cell_type": "code",
   "execution_count": 10,
   "metadata": {},
   "outputs": [
    {
     "data": {
      "text/plain": [
       "DecisionTreeClassifier(random_state=1)"
      ]
     },
     "execution_count": 10,
     "metadata": {},
     "output_type": "execute_result"
    }
   ],
   "source": [
    "dt = DecisionTreeClassifier(random_state=1)\n",
    "dt.fit(X_train, y_train)"
   ]
  },
  {
   "cell_type": "code",
   "execution_count": 11,
   "metadata": {},
   "outputs": [
    {
     "data": {
      "text/plain": [
       "1.0"
      ]
     },
     "execution_count": 11,
     "metadata": {},
     "output_type": "execute_result"
    }
   ],
   "source": [
    "dt.score(X_train, y_train)"
   ]
  },
  {
   "cell_type": "code",
   "execution_count": 12,
   "metadata": {},
   "outputs": [
    {
     "data": {
      "text/plain": [
       "0.8818998716302953"
      ]
     },
     "execution_count": 12,
     "metadata": {},
     "output_type": "execute_result"
    }
   ],
   "source": [
    "dt.score(X_test, y_test)"
   ]
  },
  {
   "cell_type": "code",
   "execution_count": 13,
   "metadata": {},
   "outputs": [
    {
     "data": {
      "image/png": "[encoded data removed]",
      "text/plain": [
       "<Figure size 432x288 with 1 Axes>"
      ]
     },
     "metadata": {
      "needs_background": "light"
     },
     "output_type": "display_data"
    }
   ],
   "source": [
    "plot_tree(dt);"
   ]
  },
  {
   "cell_type": "markdown",
   "metadata": {},
   "source": [
    "## Grid Search DT"
   ]
  },
  {
   "cell_type": "code",
   "execution_count": 14,
   "metadata": {},
   "outputs": [
    {
     "data": {
      "text/plain": [
       "{'max_depth': [None, 4, 5, 6],\n",
       " 'min_samples_split': [1, 2, 3],\n",
       " 'min_samples_leaf': [1, 9, 10]}"
      ]
     },
     "execution_count": 14,
     "metadata": {},
     "output_type": "execute_result"
    }
   ],
   "source": [
    "grid = {'max_depth': [None, 4, 5, 6],\n",
    "       'min_samples_split': [1, 2, 3],\n",
    "       'min_samples_leaf': [1, 9, 10],\n",
    "        \n",
    "       }\n",
    "grid"
   ]
  },
  {
   "cell_type": "code",
   "execution_count": 15,
   "metadata": {},
   "outputs": [],
   "source": [
    "gs = GridSearchCV(estimator=dt, scoring='precision', param_grid=grid, verbose=3, n_jobs=-3)"
   ]
  },
  {
   "cell_type": "code",
   "execution_count": 16,
   "metadata": {},
   "outputs": [
    {
     "name": "stdout",
     "output_type": "stream",
     "text": [
      "Fitting 5 folds for each of 36 candidates, totalling 180 fits\n"
     ]
    },
    {
     "name": "stderr",
     "output_type": "stream",
     "text": [
      "[Parallel(n_jobs=-3)]: Using backend LokyBackend with 6 concurrent workers.\n",
      "[Parallel(n_jobs=-3)]: Done  20 tasks      | elapsed:    4.1s\n",
      "[Parallel(n_jobs=-3)]: Done 180 out of 180 | elapsed:    5.0s finished\n"
     ]
    },
    {
     "data": {
      "text/plain": [
       "GridSearchCV(estimator=DecisionTreeClassifier(random_state=1), n_jobs=-3,\n",
       "             param_grid={'max_depth': [None, 4, 5, 6],\n",
       "                         'min_samples_leaf': [1, 9, 10],\n",
       "                         'min_samples_split': [1, 2, 3]},\n",
       "             scoring='precision', verbose=3)"
      ]
     },
     "execution_count": 16,
     "metadata": {},
     "output_type": "execute_result"
    }
   ],
   "source": [
    "gs.fit(X_train, y_train)"
   ]
  },
  {
   "cell_type": "code",
   "execution_count": 17,
   "metadata": {},
   "outputs": [
    {
     "data": {
      "text/plain": [
       "{'max_depth': 5, 'min_samples_leaf': 10, 'min_samples_split': 2}"
      ]
     },
     "execution_count": 17,
     "metadata": {},
     "output_type": "execute_result"
    }
   ],
   "source": [
    "gs.best_params_"
   ]
  },
  {
   "cell_type": "code",
   "execution_count": 18,
   "metadata": {},
   "outputs": [
    {
     "data": {
      "text/plain": [
       "0.7185965919884872"
      ]
     },
     "execution_count": 18,
     "metadata": {},
     "output_type": "execute_result"
    }
   ],
   "source": [
    "gs.best_score_"
   ]
  },
  {
   "cell_type": "code",
   "execution_count": 19,
   "metadata": {},
   "outputs": [
    {
     "data": {
      "text/plain": [
       "DecisionTreeClassifier(max_depth=5, min_samples_leaf=10, random_state=1)"
      ]
     },
     "execution_count": 19,
     "metadata": {},
     "output_type": "execute_result"
    }
   ],
   "source": [
    "final_dt = gs.best_estimator_\n",
    "final_dt"
   ]
  },
  {
   "cell_type": "code",
   "execution_count": 20,
   "metadata": {},
   "outputs": [
    {
     "data": {
      "text/plain": [
       "{'fit_time': array([0.02884579, 0.02222371, 0.02446198, 0.02294898, 0.02440286]),\n",
       " 'score_time': array([0.00928831, 0.01023006, 0.00529003, 0.00591588, 0.00658202]),\n",
       " 'test_precision': array([0.84375   , 0.56603774, 0.88888889, 0.60465116, 0.68965517]),\n",
       " 'train_precision': array([0.81428571, 0.82781457, 0.78205128, 0.78313253, 0.81944444]),\n",
       " 'test_accuracy': array([0.9379015 , 0.90578158, 0.93576017, 0.91006424, 0.91630901]),\n",
       " 'train_accuracy': array([0.93840386, 0.94429566, 0.93840386, 0.94161757, 0.94004283])}"
      ]
     },
     "execution_count": 20,
     "metadata": {},
     "output_type": "execute_result"
    }
   ],
   "source": [
    "cross_validate(final_dt, X_train, y_train, scoring=['precision', 'accuracy'],return_train_score=True)"
   ]
  },
  {
   "cell_type": "markdown",
   "metadata": {},
   "source": [
    "# Decision Tree w/ Scaling + SMOTE"
   ]
  },
  {
   "cell_type": "code",
   "execution_count": 187,
   "metadata": {},
   "outputs": [],
   "source": [
    "scaler = StandardScaler()\n",
    "scaler.fit(X_train)\n",
    "X_train_scaled = scaler.transform(X_train)\n",
    "X_test_scaled = scaler.transform(X_test)"
   ]
  },
  {
   "cell_type": "code",
   "execution_count": 188,
   "metadata": {},
   "outputs": [
    {
     "data": {
      "text/plain": [
       "'\\nSMOTE uses nearest neighbors: finds the closest data points to the one we’re currently on, create a synthetic one based on that cluster\\nThat’s better than just duplicating existing data (random oversampling/resampling) like we illustrated in (2) above\\nSince SMOTE is distance based, outliers have an effect\\nMight need to deal with outliers so we’re not increasing # of outliers\\n→  SMOTE needs scaling b/c it’s distanced based!\\n'"
      ]
     },
     "execution_count": 188,
     "metadata": {},
     "output_type": "execute_result"
    }
   ],
   "source": [
    "\"\"\"\n",
    "SMOTE uses nearest neighbors: finds the closest data points to the one we’re currently on, create a synthetic one based on that cluster\n",
    "That’s better than just duplicating existing data (random oversampling/resampling) like we illustrated in (2) above\n",
    "Since SMOTE is distance based, outliers have an effect\n",
    "Might need to deal with outliers so we’re not increasing # of outliers\n",
    "→  SMOTE needs scaling b/c it’s distanced based!\n",
    "\"\"\""
   ]
  },
  {
   "cell_type": "code",
   "execution_count": 189,
   "metadata": {},
   "outputs": [],
   "source": [
    "sm = SMOTE(random_state=42, sampling_strategy='minority', k_neighbors=10)\n",
    "X_train_smote, y_train_smote = sm.fit_resample(X_train_scaled, y_train)"
   ]
  },
  {
   "cell_type": "code",
   "execution_count": 190,
   "metadata": {},
   "outputs": [
    {
     "data": {
      "text/plain": [
       "(4160, 13)"
      ]
     },
     "execution_count": 190,
     "metadata": {},
     "output_type": "execute_result"
    }
   ],
   "source": [
    "X_train_smote.shape"
   ]
  },
  {
   "cell_type": "code",
   "execution_count": 191,
   "metadata": {},
   "outputs": [
    {
     "data": {
      "text/plain": [
       "1    2080\n",
       "0    2080\n",
       "Name: target, dtype: int64"
      ]
     },
     "execution_count": 191,
     "metadata": {},
     "output_type": "execute_result"
    }
   ],
   "source": [
    "y_train_smote.value_counts()"
   ]
  },
  {
   "cell_type": "code",
   "execution_count": 192,
   "metadata": {},
   "outputs": [
    {
     "data": {
      "text/plain": [
       "(2334, 13)"
      ]
     },
     "execution_count": 192,
     "metadata": {},
     "output_type": "execute_result"
    }
   ],
   "source": [
    "X_train_scaled.shape"
   ]
  },
  {
   "cell_type": "code",
   "execution_count": 193,
   "metadata": {},
   "outputs": [
    {
     "data": {
      "text/plain": [
       "0    2080\n",
       "1     254\n",
       "Name: target, dtype: int64"
      ]
     },
     "execution_count": 193,
     "metadata": {},
     "output_type": "execute_result"
    }
   ],
   "source": [
    "y_train.value_counts()"
   ]
  },
  {
   "cell_type": "code",
   "execution_count": 194,
   "metadata": {},
   "outputs": [
    {
     "data": {
      "text/plain": [
       "DecisionTreeClassifier(random_state=1)"
      ]
     },
     "execution_count": 194,
     "metadata": {},
     "output_type": "execute_result"
    }
   ],
   "source": [
    "dt2 = DecisionTreeClassifier(random_state=1)\n",
    "dt2.fit(X_train_smote, y_train_smote)"
   ]
  },
  {
   "cell_type": "code",
   "execution_count": 195,
   "metadata": {},
   "outputs": [
    {
     "data": {
      "text/plain": [
       "1.0"
      ]
     },
     "execution_count": 195,
     "metadata": {},
     "output_type": "execute_result"
    }
   ],
   "source": [
    "dt2.score(X_train_smote, y_train_smote)"
   ]
  },
  {
   "cell_type": "code",
   "execution_count": 196,
   "metadata": {},
   "outputs": [
    {
     "data": {
      "text/plain": [
       "0.10269576379974327"
      ]
     },
     "execution_count": 196,
     "metadata": {},
     "output_type": "execute_result"
    }
   ],
   "source": [
    "dt2.score(X_test, y_test)"
   ]
  },
  {
   "cell_type": "code",
   "execution_count": 197,
   "metadata": {},
   "outputs": [
    {
     "data": {
      "image/png": "[encoded data removed]",
      "text/plain": [
       "<Figure size 432x288 with 1 Axes>"
      ]
     },
     "metadata": {
      "needs_background": "light"
     },
     "output_type": "display_data"
    }
   ],
   "source": [
    "plot_tree(dt2);"
   ]
  },
  {
   "cell_type": "code",
   "execution_count": 198,
   "metadata": {},
   "outputs": [],
   "source": [
    "# Explanation: significantly worse accuracy = model was predicting based on imbalance rather than learning \n",
    "# Accuracy of first model is about equal to class imbalance, making it about = to a dummy model that just predicted majority"
   ]
  },
  {
   "cell_type": "code",
   "execution_count": 199,
   "metadata": {},
   "outputs": [
    {
     "data": {
      "text/plain": [
       "['per_gop',\n",
       " 'per_dem',\n",
       " 'per_third_party',\n",
       " 'Metro_status',\n",
       " 'PCTPOVALL_2021',\n",
       " 'MEDHHINC_2021',\n",
       " 'WA',\n",
       " 'BA',\n",
       " 'IA',\n",
       " 'AAPI',\n",
       " 'MEDIAN_AGE_TOT',\n",
       " 'through_hs',\n",
       " 'college_up']"
      ]
     },
     "execution_count": 199,
     "metadata": {},
     "output_type": "execute_result"
    }
   ],
   "source": [
    "feature_used = list(X.columns)\n",
    "feature_used"
   ]
  },
  {
   "cell_type": "code",
   "execution_count": 200,
   "metadata": {},
   "outputs": [
    {
     "data": {
      "text/plain": [
       "{0.050614391343165345: 'per_gop',\n",
       " 0.2935998028931481: 'per_dem',\n",
       " 0.05623659595719496: 'per_third_party',\n",
       " 0.00883555420956996: 'Metro_status',\n",
       " 0.029821929165728157: 'PCTPOVALL_2021',\n",
       " 0.08793248484036807: 'MEDHHINC_2021',\n",
       " 0.043434800012292975: 'WA',\n",
       " 0.13073185868531423: 'BA',\n",
       " 0.07528029658090502: 'IA',\n",
       " 0.06115971215327214: 'AAPI',\n",
       " 0.07818587310740721: 'MEDIAN_AGE_TOT',\n",
       " 0.0465856442961025: 'through_hs',\n",
       " 0.03758105675553138: 'college_up'}"
      ]
     },
     "execution_count": 200,
     "metadata": {},
     "output_type": "execute_result"
    }
   ],
   "source": [
    "dt.feature_importances_\n",
    "dict(zip(dt.feature_importances_, feature_used))"
   ]
  },
  {
   "cell_type": "code",
   "execution_count": 201,
   "metadata": {},
   "outputs": [
    {
     "data": {
      "text/plain": [
       "{0.522731984544187: 'per_gop',\n",
       " 0.04082192630774399: 'per_dem',\n",
       " 0.03589834916004329: 'per_third_party',\n",
       " 0.006382233983336923: 'Metro_status',\n",
       " 0.06042879687938208: 'PCTPOVALL_2021',\n",
       " 0.03935927466478542: 'MEDHHINC_2021',\n",
       " 0.011440621566261274: 'WA',\n",
       " 0.07669997401953461: 'BA',\n",
       " 0.05713414111121716: 'IA',\n",
       " 0.06118612235835417: 'AAPI',\n",
       " 0.056878093746211174: 'MEDIAN_AGE_TOT',\n",
       " 0.017537599790793883: 'through_hs',\n",
       " 0.01350088186814899: 'college_up'}"
      ]
     },
     "execution_count": 201,
     "metadata": {},
     "output_type": "execute_result"
    }
   ],
   "source": [
    "dt2.feature_importances_\n",
    "dict(zip(dt2.feature_importances_, feature_used))"
   ]
  },
  {
   "cell_type": "code",
   "execution_count": null,
   "metadata": {},
   "outputs": [],
   "source": []
  },
  {
   "cell_type": "code",
   "execution_count": null,
   "metadata": {},
   "outputs": [],
   "source": []
  },
  {
   "cell_type": "code",
   "execution_count": null,
   "metadata": {},
   "outputs": [],
   "source": []
  },
  {
   "cell_type": "code",
   "execution_count": null,
   "metadata": {},
   "outputs": [],
   "source": []
  },
  {
   "cell_type": "markdown",
   "metadata": {},
   "source": [
    "# Logistic Regression"
   ]
  },
  {
   "cell_type": "markdown",
   "metadata": {},
   "source": [
    "## Dummy Classifier Logreg"
   ]
  },
  {
   "cell_type": "code",
   "execution_count": 202,
   "metadata": {},
   "outputs": [],
   "source": [
    "dummy_model = DummyClassifier(strategy='most_frequent')\n"
   ]
  },
  {
   "cell_type": "code",
   "execution_count": 203,
   "metadata": {},
   "outputs": [
    {
     "data": {
      "text/plain": [
       "DummyClassifier(strategy='most_frequent')"
      ]
     },
     "execution_count": 203,
     "metadata": {},
     "output_type": "execute_result"
    }
   ],
   "source": [
    "dummy_model.fit(X_train, y_train)"
   ]
  },
  {
   "cell_type": "code",
   "execution_count": 204,
   "metadata": {},
   "outputs": [
    {
     "data": {
      "text/plain": [
       "0.8911739502999143"
      ]
     },
     "execution_count": 204,
     "metadata": {},
     "output_type": "execute_result"
    }
   ],
   "source": [
    "dummy_model.score(X_train, y_train)"
   ]
  },
  {
   "cell_type": "code",
   "execution_count": 205,
   "metadata": {},
   "outputs": [
    {
     "data": {
      "text/plain": [
       "0.8818998716302953"
      ]
     },
     "execution_count": 205,
     "metadata": {},
     "output_type": "execute_result"
    }
   ],
   "source": [
    "dt.score(X_test, y_test)"
   ]
  },
  {
   "cell_type": "code",
   "execution_count": 206,
   "metadata": {},
   "outputs": [],
   "source": [
    "y_pred = dummy_model.predict(X_train)\n"
   ]
  },
  {
   "cell_type": "code",
   "execution_count": 207,
   "metadata": {},
   "outputs": [
    {
     "data": {
      "text/plain": [
       "<sklearn.metrics._plot.confusion_matrix.ConfusionMatrixDisplay at 0x7fcb64e7ed30>"
      ]
     },
     "execution_count": 207,
     "metadata": {},
     "output_type": "execute_result"
    },
    {
     "data": {
      "image/png": "[encoded data removed]",
      "text/plain": [
       "<Figure size 432x288 with 2 Axes>"
      ]
     },
     "metadata": {
      "needs_background": "light"
     },
     "output_type": "display_data"
    }
   ],
   "source": [
    "cm = confusion_matrix(y_train, y_pred)\n",
    "ConfusionMatrixDisplay(cm, display_labels=['0 class', '1 class']).plot()"
   ]
  },
  {
   "cell_type": "code",
   "execution_count": 208,
   "metadata": {},
   "outputs": [
    {
     "name": "stderr",
     "output_type": "stream",
     "text": [
      "/Users/shelleywang/anaconda3/envs/learn-env/lib/python3.8/site-packages/sklearn/metrics/_classification.py:1221: UndefinedMetricWarning: Precision is ill-defined and being set to 0.0 due to no predicted samples. Use `zero_division` parameter to control this behavior.\n",
      "  _warn_prf(average, modifier, msg_start, len(result))\n"
     ]
    },
    {
     "data": {
      "text/plain": [
       "0.0"
      ]
     },
     "execution_count": 208,
     "metadata": {},
     "output_type": "execute_result"
    }
   ],
   "source": [
    "precision_score(y_train, y_pred)"
   ]
  },
  {
   "cell_type": "code",
   "execution_count": 250,
   "metadata": {},
   "outputs": [
    {
     "name": "stdout",
     "output_type": "stream",
     "text": [
      "dummy reg \n",
      "test precision 0.7834315748108851 test accuracy 0.9284484105467279 \n",
      "train precision 0.767796252905055 train accuracy 0.9281285232409171\n"
     ]
    },
    {
     "name": "stderr",
     "output_type": "stream",
     "text": [
      "/Users/shelleywang/anaconda3/envs/learn-env/lib/python3.8/site-packages/sklearn/metrics/_classification.py:1221: UndefinedMetricWarning: Precision is ill-defined and being set to 0.0 due to no predicted samples. Use `zero_division` parameter to control this behavior.\n",
      "  _warn_prf(average, modifier, msg_start, len(result))\n"
     ]
    }
   ],
   "source": [
    "# Model Evaluation\n",
    "cv_results0 = cross_validate(dummy_model, X_train, y_train, cv=5, scoring=['precision', 'accuracy'],return_train_score=True)\n",
    "cv_results0 = print('dummy reg \\ntest precision', cv_results['test_precision'].mean(), 'test accuracy', cv_results['test_accuracy'].mean(), '\\n' 'train precision', cv_results['train_precision'].mean(), 'train accuracy', cv_results['train_accuracy'].mean())"
   ]
  },
  {
   "cell_type": "code",
   "execution_count": 210,
   "metadata": {},
   "outputs": [
    {
     "data": {
      "text/plain": [
       "0.8973042362002568"
      ]
     },
     "execution_count": 210,
     "metadata": {},
     "output_type": "execute_result"
    }
   ],
   "source": [
    "dummy_model.score(X_test, y_test)"
   ]
  },
  {
   "cell_type": "code",
   "execution_count": null,
   "metadata": {},
   "outputs": [],
   "source": []
  },
  {
   "cell_type": "markdown",
   "metadata": {},
   "source": [
    "## Simple Log Reg first"
   ]
  },
  {
   "cell_type": "code",
   "execution_count": 211,
   "metadata": {},
   "outputs": [],
   "source": [
    "simple_logreg_model = LogisticRegression(random_state=1, penalty='none', max_iter=1e3)"
   ]
  },
  {
   "cell_type": "code",
   "execution_count": 212,
   "metadata": {},
   "outputs": [
    {
     "data": {
      "text/plain": [
       "LogisticRegression(max_iter=1000.0, penalty='none', random_state=1)"
      ]
     },
     "execution_count": 212,
     "metadata": {},
     "output_type": "execute_result"
    }
   ],
   "source": [
    "# no scaling since no penalty\n",
    "simple_logreg_model.fit(X_train, y_train)"
   ]
  },
  {
   "cell_type": "code",
   "execution_count": 213,
   "metadata": {},
   "outputs": [
    {
     "data": {
      "text/plain": [
       "array([1, 0, 1, ..., 0, 1, 0])"
      ]
     },
     "execution_count": 213,
     "metadata": {},
     "output_type": "execute_result"
    }
   ],
   "source": [
    "simple_logreg_model.predict(X_train)"
   ]
  },
  {
   "cell_type": "code",
   "execution_count": 251,
   "metadata": {},
   "outputs": [
    {
     "name": "stdout",
     "output_type": "stream",
     "text": [
      "simple log reg \n",
      " test precision 0.7834315748108851 test accuracy 0.9284484105467279 \n",
      "train precision 0.767796252905055 train accuracy 0.9281285232409171\n"
     ]
    }
   ],
   "source": [
    "cv_results = cross_validate(simple_logreg_model, X_train, y_train, scoring=['precision', 'accuracy'],return_train_score=True)\n",
    "cv_results = print('simple log reg \\n test precision', cv_results['test_precision'].mean(), 'test accuracy', cv_results['test_accuracy'].mean(), '\\n' 'train precision', cv_results['train_precision'].mean(), 'train accuracy', cv_results['train_accuracy'].mean())"
   ]
  },
  {
   "cell_type": "markdown",
   "metadata": {},
   "source": [
    "### Simple log reg w/ Smote"
   ]
  },
  {
   "cell_type": "code",
   "execution_count": 215,
   "metadata": {},
   "outputs": [
    {
     "data": {
      "text/plain": [
       "LogisticRegression(max_iter=1000.0, penalty='none', random_state=1)"
      ]
     },
     "execution_count": 215,
     "metadata": {},
     "output_type": "execute_result"
    }
   ],
   "source": [
    "# fitting to smoted and scaled data now\n",
    "simple_logreg_model.fit(X_train_smote, y_train_smote)"
   ]
  },
  {
   "cell_type": "code",
   "execution_count": 216,
   "metadata": {},
   "outputs": [
    {
     "data": {
      "text/plain": [
       "array([1, 0, 1, ..., 1, 1, 1])"
      ]
     },
     "execution_count": 216,
     "metadata": {},
     "output_type": "execute_result"
    }
   ],
   "source": [
    "simple_logreg_model.predict(X_train_smote)"
   ]
  },
  {
   "cell_type": "code",
   "execution_count": 253,
   "metadata": {},
   "outputs": [
    {
     "name": "stdout",
     "output_type": "stream",
     "text": [
      "logreg smote \n",
      "test precision 0.8713747647541219 test accuracy 0.8754807692307693 \n",
      "train precision 0.8678197123869055 train accuracy 0.8721754807692308\n"
     ]
    }
   ],
   "source": [
    "cv_results1 = cross_validate(simple_logreg_model, X_train_smote, y_train_smote, scoring=['precision', 'accuracy'],return_train_score=True)\n",
    "cv_results1 = print('logreg smote \\ntest precision', cv_results1['test_precision'].mean(), 'test accuracy', cv_results1['test_accuracy'].mean(),'\\ntrain precision', cv_results1['train_precision'].mean(), 'train accuracy', cv_results1['train_accuracy'].mean())"
   ]
  },
  {
   "cell_type": "code",
   "execution_count": 218,
   "metadata": {},
   "outputs": [],
   "source": [
    "y_pred_smote = simple_logreg_model.predict(X_train_smote)"
   ]
  },
  {
   "cell_type": "code",
   "execution_count": 219,
   "metadata": {},
   "outputs": [
    {
     "data": {
      "text/plain": [
       "<sklearn.metrics._plot.confusion_matrix.ConfusionMatrixDisplay at 0x7fcb64c6fa30>"
      ]
     },
     "execution_count": 219,
     "metadata": {},
     "output_type": "execute_result"
    },
    {
     "data": {
      "image/png": "[encoded data removed]",
      "text/plain": [
       "<Figure size 432x288 with 2 Axes>"
      ]
     },
     "metadata": {
      "needs_background": "light"
     },
     "output_type": "display_data"
    }
   ],
   "source": [
    "cm = confusion_matrix(y_train_smote, y_pred_smote)\n",
    "ConfusionMatrixDisplay(cm, display_labels=['0 class', '1 class']).plot()"
   ]
  },
  {
   "cell_type": "markdown",
   "metadata": {},
   "source": [
    "## Log Reg w/ Regularization"
   ]
  },
  {
   "cell_type": "code",
   "execution_count": 220,
   "metadata": {},
   "outputs": [],
   "source": [
    "logreg_model = LogisticRegression(random_state=1, penalty='l2', max_iter=1e3)"
   ]
  },
  {
   "cell_type": "code",
   "execution_count": 221,
   "metadata": {},
   "outputs": [
    {
     "data": {
      "text/plain": [
       "LogisticRegression(max_iter=1000.0, random_state=1)"
      ]
     },
     "execution_count": 221,
     "metadata": {},
     "output_type": "execute_result"
    }
   ],
   "source": [
    "logreg_model.fit(X_train_scaled, y_train)"
   ]
  },
  {
   "cell_type": "code",
   "execution_count": 222,
   "metadata": {},
   "outputs": [
    {
     "data": {
      "text/plain": [
       "array([1, 0, 1, ..., 0, 1, 0])"
      ]
     },
     "execution_count": 222,
     "metadata": {},
     "output_type": "execute_result"
    }
   ],
   "source": [
    "logreg_model.predict(X_train_scaled)"
   ]
  },
  {
   "cell_type": "code",
   "execution_count": 254,
   "metadata": {},
   "outputs": [
    {
     "name": "stdout",
     "output_type": "stream",
     "text": [
      "logreg regularized \n",
      "test precision 0.7535844280240832 test accuracy 0.9241657553004752 \n",
      "train precision 0.7606176835951772 train accuracy 0.925878695567899\n"
     ]
    }
   ],
   "source": [
    "cv_results2 = cross_validate(logreg_model, X_train_scaled, y_train, scoring=['precision', 'accuracy'],return_train_score=True)\n",
    "cv_results2 = print('logreg regularized \\ntest precision', cv_results2['test_precision'].mean(), 'test accuracy', cv_results2['test_accuracy'].mean(), '\\ntrain precision', cv_results2['train_precision'].mean(), 'train accuracy', cv_results2['train_accuracy'].mean())"
   ]
  },
  {
   "cell_type": "code",
   "execution_count": 224,
   "metadata": {},
   "outputs": [],
   "source": [
    "y_pred_regularized = logreg_model.predict(X_train_scaled)"
   ]
  },
  {
   "cell_type": "code",
   "execution_count": 225,
   "metadata": {},
   "outputs": [
    {
     "data": {
      "text/plain": [
       "<sklearn.metrics._plot.confusion_matrix.ConfusionMatrixDisplay at 0x7fca7c3d8490>"
      ]
     },
     "execution_count": 225,
     "metadata": {},
     "output_type": "execute_result"
    },
    {
     "data": {
      "image/png": "[encoded data removed]",
      "text/plain": [
       "<Figure size 432x288 with 2 Axes>"
      ]
     },
     "metadata": {
      "needs_background": "light"
     },
     "output_type": "display_data"
    }
   ],
   "source": [
    "cm = confusion_matrix(y_train, y_pred_regularized)\n",
    "ConfusionMatrixDisplay(cm, display_labels=['0 class', '1 class']).plot()"
   ]
  },
  {
   "cell_type": "markdown",
   "metadata": {},
   "source": [
    "### Logreg w/ Regularization on SMOTE"
   ]
  },
  {
   "cell_type": "code",
   "execution_count": 226,
   "metadata": {},
   "outputs": [
    {
     "data": {
      "text/plain": [
       "LogisticRegression(max_iter=1000.0, random_state=1)"
      ]
     },
     "execution_count": 226,
     "metadata": {},
     "output_type": "execute_result"
    }
   ],
   "source": [
    "logreg_model.fit(X_train_smote, y_train_smote)"
   ]
  },
  {
   "cell_type": "code",
   "execution_count": 227,
   "metadata": {},
   "outputs": [
    {
     "data": {
      "text/plain": [
       "array([1, 0, 1, ..., 1, 1, 1])"
      ]
     },
     "execution_count": 227,
     "metadata": {},
     "output_type": "execute_result"
    }
   ],
   "source": [
    "logreg_model.predict(X_train_smote)"
   ]
  },
  {
   "cell_type": "code",
   "execution_count": 256,
   "metadata": {},
   "outputs": [
    {
     "name": "stdout",
     "output_type": "stream",
     "text": [
      "logreg w/ reg & smote \n",
      "test precision 0.8540348505446683 test accuracy 0.8560096153846153 \n",
      "train precision 0.8539332628572509 train accuracy 0.8561899038461538\n"
     ]
    }
   ],
   "source": [
    "cv_results3 = cross_validate(logreg_model, X_train_smote, y_train_smote, scoring=['precision', 'accuracy'],return_train_score=True)\n",
    "cv_results3 = print('logreg w/ reg & smote \\ntest precision', cv_results3['test_precision'].mean(), 'test accuracy', cv_results3['test_accuracy'].mean(), '\\ntrain precision', cv_results3['train_precision'].mean(), 'train accuracy', cv_results3['train_accuracy'].mean())"
   ]
  },
  {
   "cell_type": "code",
   "execution_count": 229,
   "metadata": {},
   "outputs": [],
   "source": [
    "y_pred_reg_smote = logreg_model.predict(X_train_smote)"
   ]
  },
  {
   "cell_type": "code",
   "execution_count": 230,
   "metadata": {},
   "outputs": [
    {
     "data": {
      "text/plain": [
       "<sklearn.metrics._plot.confusion_matrix.ConfusionMatrixDisplay at 0x7fca414ce9d0>"
      ]
     },
     "execution_count": 230,
     "metadata": {},
     "output_type": "execute_result"
    },
    {
     "data": {
      "image/png": "[encoded data removed]",
      "text/plain": [
       "<Figure size 432x288 with 2 Axes>"
      ]
     },
     "metadata": {
      "needs_background": "light"
     },
     "output_type": "display_data"
    }
   ],
   "source": [
    "cm = confusion_matrix(y_train_smote, y_pred_reg_smote)\n",
    "ConfusionMatrixDisplay(cm, display_labels=['0 class', '1 class']).plot()"
   ]
  },
  {
   "cell_type": "markdown",
   "metadata": {},
   "source": [
    "## Logreg w/ Class Weight"
   ]
  },
  {
   "cell_type": "code",
   "execution_count": 231,
   "metadata": {},
   "outputs": [],
   "source": [
    "logreg_cw_model = LogisticRegression(class_weight='balanced', random_state=3, penalty='l2', max_iter=1e3)"
   ]
  },
  {
   "cell_type": "code",
   "execution_count": 232,
   "metadata": {},
   "outputs": [
    {
     "data": {
      "text/plain": [
       "LogisticRegression(class_weight='balanced', max_iter=1000.0, random_state=3)"
      ]
     },
     "execution_count": 232,
     "metadata": {},
     "output_type": "execute_result"
    }
   ],
   "source": [
    "logreg_cw_model.fit(X_train_scaled, y_train)"
   ]
  },
  {
   "cell_type": "code",
   "execution_count": 233,
   "metadata": {},
   "outputs": [
    {
     "data": {
      "text/plain": [
       "array([1, 0, 1, ..., 1, 1, 0])"
      ]
     },
     "execution_count": 233,
     "metadata": {},
     "output_type": "execute_result"
    }
   ],
   "source": [
    "logreg_cw_model.predict(X_train_scaled)"
   ]
  },
  {
   "cell_type": "code",
   "execution_count": 263,
   "metadata": {},
   "outputs": [
    {
     "name": "stdout",
     "output_type": "stream",
     "text": [
      "logreg w/ class weight \n",
      "test precision 0.4017565914445692 test accuracy 0.8453253807059948 \n",
      "train precision 0.3969828787099982 train accuracy 0.8439372443051809\n"
     ]
    }
   ],
   "source": [
    "cv_results4 = cross_validate(logreg_cw_model, X_train_scaled, y_train, scoring=['precision', 'accuracy'],return_train_score=True)\n",
    "cv_results4 = print('logreg w/ class weight \\ntest precision', cv_results4['test_precision'].mean(), 'test accuracy', cv_results4['test_accuracy'].mean(), '\\ntrain precision', cv_results4['train_precision'].mean(), 'train accuracy', cv_results4['train_accuracy'].mean())"
   ]
  },
  {
   "cell_type": "code",
   "execution_count": 235,
   "metadata": {},
   "outputs": [],
   "source": [
    "y_pred_cw = logreg_cw_model.predict(X_train_scaled)"
   ]
  },
  {
   "cell_type": "code",
   "execution_count": 236,
   "metadata": {},
   "outputs": [
    {
     "data": {
      "text/plain": [
       "<sklearn.metrics._plot.confusion_matrix.ConfusionMatrixDisplay at 0x7fcba3ee74f0>"
      ]
     },
     "execution_count": 236,
     "metadata": {},
     "output_type": "execute_result"
    },
    {
     "data": {
      "image/png": "[encoded data removed]",
      "text/plain": [
       "<Figure size 432x288 with 2 Axes>"
      ]
     },
     "metadata": {
      "needs_background": "light"
     },
     "output_type": "display_data"
    }
   ],
   "source": [
    "cm = confusion_matrix(y_train, y_pred_cw)\n",
    "ConfusionMatrixDisplay(cm, display_labels=['0 class', '1 class']).plot()"
   ]
  },
  {
   "cell_type": "code",
   "execution_count": 270,
   "metadata": {},
   "outputs": [
    {
     "data": {
      "text/plain": [
       "'logreg w/ class weight \\ntest precision 0.4017565914445692 test accuracy 0.8453253807059948 \\ntrain precision 0.3969828787099982 train accuracy 0.8439372443051809'"
      ]
     },
     "execution_count": 270,
     "metadata": {},
     "output_type": "execute_result"
    }
   ],
   "source": []
  },
  {
   "cell_type": "code",
   "execution_count": 265,
   "metadata": {},
   "outputs": [],
   "source": [
    "cv_results4"
   ]
  },
  {
   "cell_type": "markdown",
   "metadata": {},
   "source": [
    "## Grid Search the CW Log Reg Model"
   ]
  },
  {
   "cell_type": "code",
   "execution_count": 281,
   "metadata": {},
   "outputs": [
    {
     "data": {
      "text/plain": [
       "{'class_weight': ['balanced',\n",
       "  None,\n",
       "  [{0: 0.0, 1: 1.0},\n",
       "   {0: 0.11, 1: 0.89},\n",
       "   {0: 0.22, 1: 0.78},\n",
       "   {0: 0.33, 1: 0.6699999999999999},\n",
       "   {0: 0.44, 1: 0.56},\n",
       "   {0: 0.55, 1: 0.44999999999999996},\n",
       "   {0: 0.66, 1: 0.33999999999999997},\n",
       "   {0: 0.77, 1: 0.22999999999999998},\n",
       "   {0: 0.88, 1: 0.12},\n",
       "   {0: 0.99, 1: 0.010000000000000009}]],\n",
       " 'max_iter': [10, 100, 200],\n",
       " 'C': [50, 100, 200]}"
      ]
     },
     "execution_count": 281,
     "metadata": {},
     "output_type": "execute_result"
    }
   ],
   "source": [
    "weights = np.linspace(0.0,0.99,10)\n",
    "vals = [{0:x, 1:1.0-x} for x in weights]\n",
    "\n",
    "grid2 = {'class_weight': ['balanced', None, vals],\n",
    "       'max_iter': [10, 100, 200],\n",
    "       'C': [50, 100, 200],\n",
    "       }\n",
    "grid2"
   ]
  },
  {
   "cell_type": "code",
   "execution_count": 282,
   "metadata": {},
   "outputs": [],
   "source": [
    "gs2 = GridSearchCV(estimator=logreg_cw_model, scoring='precision', param_grid=grid2, verbose=3, n_jobs=-3)"
   ]
  },
  {
   "cell_type": "code",
   "execution_count": 283,
   "metadata": {},
   "outputs": [
    {
     "name": "stdout",
     "output_type": "stream",
     "text": [
      "Fitting 5 folds for each of 27 candidates, totalling 135 fits\n"
     ]
    },
    {
     "name": "stderr",
     "output_type": "stream",
     "text": [
      "[Parallel(n_jobs=-3)]: Using backend LokyBackend with 6 concurrent workers.\n",
      "[Parallel(n_jobs=-3)]: Done  28 tasks      | elapsed:    0.8s\n",
      "[Parallel(n_jobs=-3)]: Done 124 out of 135 | elapsed:    2.9s remaining:    0.3s\n",
      "[Parallel(n_jobs=-3)]: Done 135 out of 135 | elapsed:    3.3s finished\n"
     ]
    },
    {
     "data": {
      "text/plain": [
       "GridSearchCV(estimator=LogisticRegression(class_weight='balanced',\n",
       "                                          max_iter=1000.0, random_state=3),\n",
       "             n_jobs=-3,\n",
       "             param_grid={'C': [50, 100, 200],\n",
       "                         'class_weight': ['balanced', None,\n",
       "                                          [{0: 0.0, 1: 1.0}, {0: 0.11, 1: 0.89},\n",
       "                                           {0: 0.22, 1: 0.78},\n",
       "                                           {0: 0.33, 1: 0.6699999999999999},\n",
       "                                           {0: 0.44, 1: 0.56},\n",
       "                                           {0: 0.55, 1: 0.44999999999999996},\n",
       "                                           {0: 0.66, 1: 0.33999999999999997},\n",
       "                                           {0: 0.77, 1: 0.22999999999999998},\n",
       "                                           {0: 0.88, 1: 0.12},\n",
       "                                           {0: 0.99, 1: 0.010000000000000009}]],\n",
       "                         'max_iter': [10, 100, 200]},\n",
       "             scoring='precision', verbose=3)"
      ]
     },
     "execution_count": 283,
     "metadata": {},
     "output_type": "execute_result"
    }
   ],
   "source": [
    "gs2.fit(X_train_scaled, y_train)"
   ]
  },
  {
   "cell_type": "code",
   "execution_count": 284,
   "metadata": {},
   "outputs": [
    {
     "data": {
      "text/plain": [
       "{'C': 100, 'class_weight': None, 'max_iter': 100}"
      ]
     },
     "execution_count": 284,
     "metadata": {},
     "output_type": "execute_result"
    }
   ],
   "source": [
    "gs2.best_params_"
   ]
  },
  {
   "cell_type": "code",
   "execution_count": 285,
   "metadata": {},
   "outputs": [
    {
     "data": {
      "text/plain": [
       "0.7724724724724725"
      ]
     },
     "execution_count": 285,
     "metadata": {},
     "output_type": "execute_result"
    }
   ],
   "source": [
    "gs2.best_score_"
   ]
  },
  {
   "cell_type": "code",
   "execution_count": 286,
   "metadata": {},
   "outputs": [
    {
     "data": {
      "text/plain": [
       "LogisticRegression(C=100, random_state=3)"
      ]
     },
     "execution_count": 286,
     "metadata": {},
     "output_type": "execute_result"
    }
   ],
   "source": [
    "final_model = gs2.best_estimator_\n",
    "final_model"
   ]
  },
  {
   "cell_type": "code",
   "execution_count": null,
   "metadata": {},
   "outputs": [],
   "source": []
  },
  {
   "cell_type": "code",
   "execution_count": null,
   "metadata": {},
   "outputs": [],
   "source": []
  }
 ],
 "metadata": {
  "kernelspec": {
   "display_name": "Python 3",
   "language": "python",
   "name": "python3"
  },
  "language_info": {
   "codemirror_mode": {
    "name": "ipython",
    "version": 3
   },
   "file_extension": ".py",
   "mimetype": "text/x-python",
   "name": "python",
   "nbconvert_exporter": "python",
   "pygments_lexer": "ipython3",
   "version": "3.8.5"
  }
 },
 "nbformat": 4,
 "nbformat_minor": 4
}
